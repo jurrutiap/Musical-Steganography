{
 "cells": [
  {
   "cell_type": "code",
   "execution_count": 3,
   "metadata": {},
   "outputs": [
    {
     "name": "stdout",
     "output_type": "stream",
     "text": [
      "pygame 2.5.2 (SDL 2.28.3, Python 3.8.5)\n",
      "Hello from the pygame community. https://www.pygame.org/contribute.html\n"
     ]
    }
   ],
   "source": [
    "import pygame\n",
    "\n",
    "def play_midi(midi_file_path):\n",
    "    pygame.init()\n",
    "    pygame.mixer.init()\n",
    "\n",
    "    # Load MIDI file\n",
    "    pygame.mixer.music.load(midi_file_path)\n",
    "\n",
    "    # Play MIDI file\n",
    "    pygame.mixer.music.play()\n",
    "\n",
    "    # Wait for the music to finish playing\n",
    "    while pygame.mixer.music.get_busy():\n",
    "        pygame.time.Clock().tick(10)\n",
    "\n",
    "    pygame.quit()\n",
    "\n",
    "# Con esta funcion se reproduce el archivo midi\n",
    "play_midi('the_swan.mid')\n"
   ]
  },
  {
   "cell_type": "code",
   "execution_count": 9,
   "metadata": {},
   "outputs": [],
   "source": [
    "# Cifrado Vigenere para generar la clave automaticamente, la clase es la que se va a cifrar con la canción\n",
    "\n",
    "import numpy as np\n",
    "\n",
    "def chartonum (text):\n",
    "    numlist=[]\n",
    "    y= ''.join(ch for ch in text if ch.isalpha()).lower()\n",
    "    x = list(y)\n",
    "    for i in x:\n",
    "        numlist.append(abs(ord(i)-97))\n",
    "    return numlist\n",
    "\n",
    "def numtochar(text):\n",
    "    charlist=\"\"\n",
    "    for i in text:\n",
    "        charlist+= chr(i+97)\n",
    "    return charlist.upper()\n",
    "\n",
    "def generateKey(string):\n",
    "    y= []\n",
    "    x= np.random.randint(1, len(string))\n",
    "    for _ in range(x):\n",
    "        y.append(np.random.randint(26))\n",
    "    key = numtochar(y)\n",
    "    return key\n",
    "\n",
    "def cipherText(string, key):\n",
    "    cipher_text = []\n",
    "    string = chartonum(string)\n",
    "    key = chartonum(key)\n",
    "    for i in range(len(string)):\n",
    "        x = (string[i] + key[i%len(key)]) % 26\n",
    "        cipher_text.append(x)\n",
    "    return \"\".join(numtochar(cipher_text).upper())\n",
    "\n",
    "\n",
    "def DecryptedText(cipher_text, key):\n",
    "    orig_text = []\n",
    "    cipher_text = chartonum(cipher_text)\n",
    "    key = chartonum(key)\n",
    "    for i in range(len(cipher_text)):\n",
    "        x = (cipher_text[i] - key[i%len(key)] + 26) % 26\n",
    "        orig_text.append(x)\n",
    "    return (\"\".join(numtochar(orig_text))).upper()"
   ]
  },
  {
   "cell_type": "code",
   "execution_count": 10,
   "metadata": {},
   "outputs": [
    {
     "name": "stdout",
     "output_type": "stream",
     "text": [
      "Ciphertext : KAVHOTQQXOTYPZAN\n",
      "Original/Decrypted Text : HOLATESTNOSEALGO\n"
     ]
    }
   ],
   "source": [
    "string = 'Hola test no se algo'\n",
    "key = generateKey(string)\n",
    "cipher_text = cipherText(string, key)\n",
    "print(\"Ciphertext :\", cipher_text)\n",
    "\n",
    "print(\"Original/Decrypted Text :\", DecryptedText(cipher_text, key))"
   ]
  }
 ],
 "metadata": {
  "kernelspec": {
   "display_name": ".venv",
   "language": "python",
   "name": "python3"
  },
  "language_info": {
   "codemirror_mode": {
    "name": "ipython",
    "version": 3
   },
   "file_extension": ".py",
   "mimetype": "text/x-python",
   "name": "python",
   "nbconvert_exporter": "python",
   "pygments_lexer": "ipython3",
   "version": "3.8.5"
  }
 },
 "nbformat": 4,
 "nbformat_minor": 2
}
